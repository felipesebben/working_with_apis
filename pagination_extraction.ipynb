{
 "cells": [
  {
   "cell_type": "markdown",
   "metadata": {},
   "source": [
    "<h1>Working With APIs in Python - Pagination and Data Extraction</h1>\n",
    "<h2>1. Introduction</h2>\n",
    "<p>In this notebook, I'll be following the <a href='https://www.youtube.com/watch?v=-oPuGc05Lxs'>YouTube tutorial</a> by <a href='https://www.youtube.com/c/JohnWatsonRooney'>John Watson Rooney</a> on how to extract data from an API using pagination methods. I decided to take these notes after struggling with similar APIs. I am doing as a pedagogical exercise and, in case if anybody is interested, as a way to share some valuable knowledge (it is at least to me!).</p>\n",
    "<p>John used the <strong>Rick and Morty</strong> API. Here's the <a href='https://rickandmortyapi.com/documentation/'>link</a> to its documentation.</p>\n",
    "<p><strong>Base url</strong>: https://rickandmortyapi.com/api</p>\n"
   ]
  },
  {
   "cell_type": "markdown",
   "metadata": {},
   "source": [
    "<p>Once you click on the API url, you get to see the following links, which you can visit just as a website.</p>"
   ]
  },
  {
   "cell_type": "markdown",
   "metadata": {},
   "source": [
    "```json\n",
    "{\n",
    "  \"characters\": \"https://rickandmortyapi.com/api/character\",\n",
    "  \"locations\": \"https://rickandmortyapi.com/api/location\",\n",
    "  \"episodes\": \"https://rickandmortyapi.com/api/episode\"\n",
    "}\n",
    "```"
   ]
  },
  {
   "cell_type": "markdown",
   "metadata": {},
   "source": [
    "<p>By selecting, say <code>\"characters\"</code>, you get to see how the data is stored in the API. Exploring these features, together with <strong>reading the docs</strong> should be the first things to do when trying to consume any API.</p>\n",
    "<p>Let's take a look at a few parts of the result of the main query:</p>"
   ]
  },
  {
   "cell_type": "markdown",
   "metadata": {},
   "source": [
    "```json\n",
    "{\n",
    "  \"info\": {\n",
    "    \"count\": 826,\n",
    "    \"pages\": 42,\n",
    "    \"next\": \"https://rickandmortyapi.com/api/character?page=2\",\n",
    "    \"prev\": null\n",
    "  },\n",
    " ```"
   ]
  },
  {
   "cell_type": "markdown",
   "metadata": {},
   "source": [
    "<p>In the above excerpt, we get some important data on the dataset. We get to see the number of characters (<code>\"count\"</code>), the number of pages (<code>\"pages\"</code>), and the <code>\"next\"</code> key, which is the main reason I'm here typing all this info.</p>"
   ]
  },
  {
   "cell_type": "markdown",
   "metadata": {},
   "source": [
    "```json\n",
    " \"results\": [\n",
    "    {\n",
    "      \"id\": 1,\n",
    "      \"name\": \"Rick Sanchez\",\n",
    "      \"status\": \"Alive\",\n",
    "      \"species\": \"Human\",\n",
    "      \"type\": \"\",\n",
    "      \"gender\": \"Male\",\n",
    "      \"origin\": {\n",
    "        \"name\": \"Earth (C-137)\",\n",
    "        \"url\": \"https://rickandmortyapi.com/api/location/1\"\n",
    "      },\n",
    "      \"location\": {\n",
    "        \"name\": \"Citadel of Ricks\",\n",
    "        \"url\": \"https://rickandmortyapi.com/api/location/3\"\n",
    "      },\n",
    "      \"image\": \"https://rickandmortyapi.com/api/character/avatar/1.jpeg\",\n",
    "      \"episode\": [\n",
    "        \"https://rickandmortyapi.com/api/episode/1\",\n",
    "        \"https://rickandmortyapi.com/api/episode/2\",\n",
    "        \"https://rickandmortyapi.com/api/episode/3\",\n",
    "        \"https://rickandmortyapi.com/api/episode/4\",\n",
    "        \"https://rickandmortyapi.com/api/episode/5\",\n",
    "        \"https://rickandmortyapi.com/api/episode/6\",\n",
    "        \"https://rickandmortyapi.com/api/episode/7\",\n",
    "        \"https://rickandmortyapi.com/api/episode/8\",\n",
    "        \"https://rickandmortyapi.com/api/episode/9\",\n",
    "        \"https://rickandmortyapi.com/api/episode/10\",\n",
    "        \"https://rickandmortyapi.com/api/episode/11\",\n",
    "        \"https://rickandmortyapi.com/api/episode/12\",\n",
    "        \"https://rickandmortyapi.com/api/episode/13\",\n",
    "        \"https://rickandmortyapi.com/api/episode/14\",\n",
    "        \"https://rickandmortyapi.com/api/episode/15\",\n",
    "        \"https://rickandmortyapi.com/api/episode/16\",\n",
    "        \"https://rickandmortyapi.com/api/episode/17\",\n",
    "        \"https://rickandmortyapi.com/api/episode/18\",\n",
    "        \"https://rickandmortyapi.com/api/episode/19\",\n",
    "        \"https://rickandmortyapi.com/api/episode/20\",\n",
    "        \"https://rickandmortyapi.com/api/episode/21\",\n",
    "        \"https://rickandmortyapi.com/api/episode/22\",\n",
    "        \"https://rickandmortyapi.com/api/episode/23\",\n",
    "        \"https://rickandmortyapi.com/api/episode/24\",\n",
    "        \"https://rickandmortyapi.com/api/episode/25\",\n",
    "        \"https://rickandmortyapi.com/api/episode/26\",\n",
    "        \"https://rickandmortyapi.com/api/episode/27\",\n",
    "        \"https://rickandmortyapi.com/api/episode/28\",\n",
    "        \"https://rickandmortyapi.com/api/episode/29\",\n",
    "        \"https://rickandmortyapi.com/api/episode/30\",\n",
    "        \"https://rickandmortyapi.com/api/episode/31\",\n",
    "        \"https://rickandmortyapi.com/api/episode/32\",\n",
    "        \"https://rickandmortyapi.com/api/episode/33\",\n",
    "        \"https://rickandmortyapi.com/api/episode/34\",\n",
    "        \"https://rickandmortyapi.com/api/episode/35\",\n",
    "        \"https://rickandmortyapi.com/api/episode/36\",\n",
    "        \"https://rickandmortyapi.com/api/episode/37\",\n",
    "        \"https://rickandmortyapi.com/api/episode/38\",\n",
    "        \"https://rickandmortyapi.com/api/episode/39\",\n",
    "        \"https://rickandmortyapi.com/api/episode/40\",\n",
    "        \"https://rickandmortyapi.com/api/episode/41\",\n",
    "        \"https://rickandmortyapi.com/api/episode/42\",\n",
    "        \"https://rickandmortyapi.com/api/episode/43\",\n",
    "        \"https://rickandmortyapi.com/api/episode/44\",\n",
    "        \"https://rickandmortyapi.com/api/episode/45\",\n",
    "        \"https://rickandmortyapi.com/api/episode/46\",\n",
    "        \"https://rickandmortyapi.com/api/episode/47\",\n",
    "        \"https://rickandmortyapi.com/api/episode/48\",\n",
    "        \"https://rickandmortyapi.com/api/episode/49\",\n",
    "        \"https://rickandmortyapi.com/api/episode/50\",\n",
    "        \"https://rickandmortyapi.com/api/episode/51\"\n",
    "      ],\n",
    "      \"url\": \"https://rickandmortyapi.com/api/character/1\",\n",
    "      \"created\": \"2017-11-04T18:48:46.250Z\"\n",
    "    },\n",
    "```"
   ]
  },
  {
   "cell_type": "markdown",
   "metadata": {},
   "source": [
    "<p>Now, we are actually dealing with the data on Rick and Morty characters. We got 20 entries for this page, each one containing different features of each character.</p>"
   ]
  },
  {
   "cell_type": "markdown",
   "metadata": {},
   "source": [
    "<h2>2. Importing libraries, doing our request </h2>"
   ]
  },
  {
   "cell_type": "code",
   "execution_count": 37,
   "metadata": {},
   "outputs": [],
   "source": [
    "import requests\n",
    "import pandas as pd"
   ]
  },
  {
   "cell_type": "markdown",
   "metadata": {},
   "source": [
    "<p>Let's set our base url separated from the endpoint, like <code>character</code>.</p>"
   ]
  },
  {
   "cell_type": "code",
   "execution_count": 2,
   "metadata": {},
   "outputs": [],
   "source": [
    "baseurl = 'https://rickandmortyapi.com/api/'\n",
    "endpoint = 'character'"
   ]
  },
  {
   "cell_type": "code",
   "execution_count": 3,
   "metadata": {},
   "outputs": [],
   "source": [
    "r = requests.get(baseurl + endpoint)"
   ]
  },
  {
   "cell_type": "code",
   "execution_count": 4,
   "metadata": {},
   "outputs": [
    {
     "name": "stdout",
     "output_type": "stream",
     "text": [
      "<Response [200]>\n"
     ]
    }
   ],
   "source": [
    "print(r)"
   ]
  },
  {
   "cell_type": "markdown",
   "metadata": {},
   "source": [
    "<p>We got a good response (200).</p>\n",
    "<p>To get the actual information, we add <code>.json()</code>, giving the response in this format.</p>"
   ]
  },
  {
   "cell_type": "code",
   "execution_count": 5,
   "metadata": {},
   "outputs": [
    {
     "data": {
      "text/plain": [
       "{'info': {'count': 826,\n",
       "  'pages': 42,\n",
       "  'next': 'https://rickandmortyapi.com/api/character?page=2',\n",
       "  'prev': None},\n",
       " 'results': [{'id': 1,\n",
       "   'name': 'Rick Sanchez',\n",
       "   'status': 'Alive',\n",
       "   'species': 'Human',\n",
       "   'type': '',\n",
       "   'gender': 'Male',\n",
       "   'origin': {'name': 'Earth (C-137)',\n",
       "    'url': 'https://rickandmortyapi.com/api/location/1'},\n",
       "   'location': {'name': 'Citadel of Ricks',\n",
       "    'url': 'https://rickandmortyapi.com/api/location/3'},\n",
       "   'image': 'https://rickandmortyapi.com/api/character/avatar/1.jpeg',\n",
       "   'episode': ['https://rickandmortyapi.com/api/episode/1',\n",
       "    'https://rickandmortyapi.com/api/episode/2',\n",
       "    'https://rickandmortyapi.com/api/episode/3',\n",
       "    'https://rickandmortyapi.com/api/episode/4',\n",
       "    'https://rickandmortyapi.com/api/episode/5',\n",
       "    'https://rickandmortyapi.com/api/episode/6',\n",
       "    'https://rickandmortyapi.com/api/episode/7',\n",
       "    'https://rickandmortyapi.com/api/episode/8',\n",
       "    'https://rickandmortyapi.com/api/episode/9',\n",
       "    'https://rickandmortyapi.com/api/episode/10',\n",
       "    'https://rickandmortyapi.com/api/episode/11',\n",
       "    'https://rickandmortyapi.com/api/episode/12',\n",
       "    'https://rickandmortyapi.com/api/episode/13',\n",
       "    'https://rickandmortyapi.com/api/episode/14',\n",
       "    'https://rickandmortyapi.com/api/episode/15',\n",
       "    'https://rickandmortyapi.com/api/episode/16',\n",
       "    'https://rickandmortyapi.com/api/episode/17',\n",
       "    'https://rickandmortyapi.com/api/episode/18',\n",
       "    'https://rickandmortyapi.com/api/episode/19',\n",
       "    'https://rickandmortyapi.com/api/episode/20',\n",
       "    'https://rickandmortyapi.com/api/episode/21',\n",
       "    'https://rickandmortyapi.com/api/episode/22',\n",
       "    'https://rickandmortyapi.com/api/episode/23',\n",
       "    'https://rickandmortyapi.com/api/episode/24',\n",
       "    'https://rickandmortyapi.com/api/episode/25',\n",
       "    'https://rickandmortyapi.com/api/episode/26',\n",
       "    'https://rickandmortyapi.com/api/episode/27',\n",
       "    'https://rickandmortyapi.com/api/episode/28',\n",
       "    'https://rickandmortyapi.com/api/episode/29',\n",
       "    'https://rickandmortyapi.com/api/episode/30',\n",
       "    'https://rickandmortyapi.com/api/episode/31',\n",
       "    'https://rickandmortyapi.com/api/episode/32',\n",
       "    'https://rickandmortyapi.com/api/episode/33',\n",
       "    'https://rickandmortyapi.com/api/episode/34',\n",
       "    'https://rickandmortyapi.com/api/episode/35',\n",
       "    'https://rickandmortyapi.com/api/episode/36',\n",
       "    'https://rickandmortyapi.com/api/episode/37',\n",
       "    'https://rickandmortyapi.com/api/episode/38',\n",
       "    'https://rickandmortyapi.com/api/episode/39',\n",
       "    'https://rickandmortyapi.com/api/episode/40',\n",
       "    'https://rickandmortyapi.com/api/episode/41',\n",
       "    'https://rickandmortyapi.com/api/episode/42',\n",
       "    'https://rickandmortyapi.com/api/episode/43',\n",
       "    'https://rickandmortyapi.com/api/episode/44',\n",
       "    'https://rickandmortyapi.com/api/episode/45',\n",
       "    'https://rickandmortyapi.com/api/episode/46',\n",
       "    'https://rickandmortyapi.com/api/episode/47',\n",
       "    'https://rickandmortyapi.com/api/episode/48',\n",
       "    'https://rickandmortyapi.com/api/episode/49',\n",
       "    'https://rickandmortyapi.com/api/episode/50',\n",
       "    'https://rickandmortyapi.com/api/episode/51'],\n",
       "   'url': 'https://rickandmortyapi.com/api/character/1',\n",
       "   'created': '2017-11-04T18:48:46.250Z'},\n",
       "  {'id': 2,\n",
       "   'name': 'Morty Smith',\n",
       "   'status': 'Alive',\n",
       "   'species': 'Human',\n",
       "   'type': '',\n",
       "   'gender': 'Male',\n",
       "   'origin': {'name': 'unknown', 'url': ''},\n",
       "   'location': {'name': 'Citadel of Ricks',\n",
       "    'url': 'https://rickandmortyapi.com/api/location/3'},\n",
       "   'image': 'https://rickandmortyapi.com/api/character/avatar/2.jpeg',\n",
       "   'episode': ['https://rickandmortyapi.com/api/episode/1',\n",
       "    'https://rickandmortyapi.com/api/episode/2',\n",
       "    'https://rickandmortyapi.com/api/episode/3',\n",
       "    'https://rickandmortyapi.com/api/episode/4',\n",
       "    'https://rickandmortyapi.com/api/episode/5',\n",
       "    'https://rickandmortyapi.com/api/episode/6',\n",
       "    'https://rickandmortyapi.com/api/episode/7',\n",
       "    'https://rickandmortyapi.com/api/episode/8',\n",
       "    'https://rickandmortyapi.com/api/episode/9',\n",
       "    'https://rickandmortyapi.com/api/episode/10',\n",
       "    'https://rickandmortyapi.com/api/episode/11',\n",
       "    'https://rickandmortyapi.com/api/episode/12',\n",
       "    'https://rickandmortyapi.com/api/episode/13',\n",
       "    'https://rickandmortyapi.com/api/episode/14',\n",
       "    'https://rickandmortyapi.com/api/episode/15',\n",
       "    'https://rickandmortyapi.com/api/episode/16',\n",
       "    'https://rickandmortyapi.com/api/episode/17',\n",
       "    'https://rickandmortyapi.com/api/episode/18',\n",
       "    'https://rickandmortyapi.com/api/episode/19',\n",
       "    'https://rickandmortyapi.com/api/episode/20',\n",
       "    'https://rickandmortyapi.com/api/episode/21',\n",
       "    'https://rickandmortyapi.com/api/episode/22',\n",
       "    'https://rickandmortyapi.com/api/episode/23',\n",
       "    'https://rickandmortyapi.com/api/episode/24',\n",
       "    'https://rickandmortyapi.com/api/episode/25',\n",
       "    'https://rickandmortyapi.com/api/episode/26',\n",
       "    'https://rickandmortyapi.com/api/episode/27',\n",
       "    'https://rickandmortyapi.com/api/episode/28',\n",
       "    'https://rickandmortyapi.com/api/episode/29',\n",
       "    'https://rickandmortyapi.com/api/episode/30',\n",
       "    'https://rickandmortyapi.com/api/episode/31',\n",
       "    'https://rickandmortyapi.com/api/episode/32',\n",
       "    'https://rickandmortyapi.com/api/episode/33',\n",
       "    'https://rickandmortyapi.com/api/episode/34',\n",
       "    'https://rickandmortyapi.com/api/episode/35',\n",
       "    'https://rickandmortyapi.com/api/episode/36',\n",
       "    'https://rickandmortyapi.com/api/episode/37',\n",
       "    'https://rickandmortyapi.com/api/episode/38',\n",
       "    'https://rickandmortyapi.com/api/episode/39',\n",
       "    'https://rickandmortyapi.com/api/episode/40',\n",
       "    'https://rickandmortyapi.com/api/episode/41',\n",
       "    'https://rickandmortyapi.com/api/episode/42',\n",
       "    'https://rickandmortyapi.com/api/episode/43',\n",
       "    'https://rickandmortyapi.com/api/episode/44',\n",
       "    'https://rickandmortyapi.com/api/episode/45',\n",
       "    'https://rickandmortyapi.com/api/episode/46',\n",
       "    'https://rickandmortyapi.com/api/episode/47',\n",
       "    'https://rickandmortyapi.com/api/episode/48',\n",
       "    'https://rickandmortyapi.com/api/episode/49',\n",
       "    'https://rickandmortyapi.com/api/episode/50',\n",
       "    'https://rickandmortyapi.com/api/episode/51'],\n",
       "   'url': 'https://rickandmortyapi.com/api/character/2',\n",
       "   'created': '2017-11-04T18:50:21.651Z'},\n",
       "  {'id': 3,\n",
       "   'name': 'Summer Smith',\n",
       "   'status': 'Alive',\n",
       "   'species': 'Human',\n",
       "   'type': '',\n",
       "   'gender': 'Female',\n",
       "   'origin': {'name': 'Earth (Replacement Dimension)',\n",
       "    'url': 'https://rickandmortyapi.com/api/location/20'},\n",
       "   'location': {'name': 'Earth (Replacement Dimension)',\n",
       "    'url': 'https://rickandmortyapi.com/api/location/20'},\n",
       "   'image': 'https://rickandmortyapi.com/api/character/avatar/3.jpeg',\n",
       "   'episode': ['https://rickandmortyapi.com/api/episode/6',\n",
       "    'https://rickandmortyapi.com/api/episode/7',\n",
       "    'https://rickandmortyapi.com/api/episode/8',\n",
       "    'https://rickandmortyapi.com/api/episode/9',\n",
       "    'https://rickandmortyapi.com/api/episode/10',\n",
       "    'https://rickandmortyapi.com/api/episode/11',\n",
       "    'https://rickandmortyapi.com/api/episode/12',\n",
       "    'https://rickandmortyapi.com/api/episode/14',\n",
       "    'https://rickandmortyapi.com/api/episode/15',\n",
       "    'https://rickandmortyapi.com/api/episode/16',\n",
       "    'https://rickandmortyapi.com/api/episode/17',\n",
       "    'https://rickandmortyapi.com/api/episode/18',\n",
       "    'https://rickandmortyapi.com/api/episode/19',\n",
       "    'https://rickandmortyapi.com/api/episode/20',\n",
       "    'https://rickandmortyapi.com/api/episode/21',\n",
       "    'https://rickandmortyapi.com/api/episode/22',\n",
       "    'https://rickandmortyapi.com/api/episode/23',\n",
       "    'https://rickandmortyapi.com/api/episode/24',\n",
       "    'https://rickandmortyapi.com/api/episode/25',\n",
       "    'https://rickandmortyapi.com/api/episode/26',\n",
       "    'https://rickandmortyapi.com/api/episode/27',\n",
       "    'https://rickandmortyapi.com/api/episode/29',\n",
       "    'https://rickandmortyapi.com/api/episode/30',\n",
       "    'https://rickandmortyapi.com/api/episode/31',\n",
       "    'https://rickandmortyapi.com/api/episode/32',\n",
       "    'https://rickandmortyapi.com/api/episode/33',\n",
       "    'https://rickandmortyapi.com/api/episode/34',\n",
       "    'https://rickandmortyapi.com/api/episode/35',\n",
       "    'https://rickandmortyapi.com/api/episode/36',\n",
       "    'https://rickandmortyapi.com/api/episode/38',\n",
       "    'https://rickandmortyapi.com/api/episode/39',\n",
       "    'https://rickandmortyapi.com/api/episode/40',\n",
       "    'https://rickandmortyapi.com/api/episode/41',\n",
       "    'https://rickandmortyapi.com/api/episode/42',\n",
       "    'https://rickandmortyapi.com/api/episode/43',\n",
       "    'https://rickandmortyapi.com/api/episode/44',\n",
       "    'https://rickandmortyapi.com/api/episode/45',\n",
       "    'https://rickandmortyapi.com/api/episode/46',\n",
       "    'https://rickandmortyapi.com/api/episode/47',\n",
       "    'https://rickandmortyapi.com/api/episode/48',\n",
       "    'https://rickandmortyapi.com/api/episode/49',\n",
       "    'https://rickandmortyapi.com/api/episode/51'],\n",
       "   'url': 'https://rickandmortyapi.com/api/character/3',\n",
       "   'created': '2017-11-04T19:09:56.428Z'},\n",
       "  {'id': 4,\n",
       "   'name': 'Beth Smith',\n",
       "   'status': 'Alive',\n",
       "   'species': 'Human',\n",
       "   'type': '',\n",
       "   'gender': 'Female',\n",
       "   'origin': {'name': 'Earth (Replacement Dimension)',\n",
       "    'url': 'https://rickandmortyapi.com/api/location/20'},\n",
       "   'location': {'name': 'Earth (Replacement Dimension)',\n",
       "    'url': 'https://rickandmortyapi.com/api/location/20'},\n",
       "   'image': 'https://rickandmortyapi.com/api/character/avatar/4.jpeg',\n",
       "   'episode': ['https://rickandmortyapi.com/api/episode/6',\n",
       "    'https://rickandmortyapi.com/api/episode/7',\n",
       "    'https://rickandmortyapi.com/api/episode/8',\n",
       "    'https://rickandmortyapi.com/api/episode/9',\n",
       "    'https://rickandmortyapi.com/api/episode/10',\n",
       "    'https://rickandmortyapi.com/api/episode/11',\n",
       "    'https://rickandmortyapi.com/api/episode/12',\n",
       "    'https://rickandmortyapi.com/api/episode/14',\n",
       "    'https://rickandmortyapi.com/api/episode/15',\n",
       "    'https://rickandmortyapi.com/api/episode/16',\n",
       "    'https://rickandmortyapi.com/api/episode/18',\n",
       "    'https://rickandmortyapi.com/api/episode/19',\n",
       "    'https://rickandmortyapi.com/api/episode/20',\n",
       "    'https://rickandmortyapi.com/api/episode/21',\n",
       "    'https://rickandmortyapi.com/api/episode/22',\n",
       "    'https://rickandmortyapi.com/api/episode/23',\n",
       "    'https://rickandmortyapi.com/api/episode/24',\n",
       "    'https://rickandmortyapi.com/api/episode/25',\n",
       "    'https://rickandmortyapi.com/api/episode/26',\n",
       "    'https://rickandmortyapi.com/api/episode/27',\n",
       "    'https://rickandmortyapi.com/api/episode/28',\n",
       "    'https://rickandmortyapi.com/api/episode/29',\n",
       "    'https://rickandmortyapi.com/api/episode/30',\n",
       "    'https://rickandmortyapi.com/api/episode/31',\n",
       "    'https://rickandmortyapi.com/api/episode/32',\n",
       "    'https://rickandmortyapi.com/api/episode/33',\n",
       "    'https://rickandmortyapi.com/api/episode/34',\n",
       "    'https://rickandmortyapi.com/api/episode/35',\n",
       "    'https://rickandmortyapi.com/api/episode/36',\n",
       "    'https://rickandmortyapi.com/api/episode/38',\n",
       "    'https://rickandmortyapi.com/api/episode/39',\n",
       "    'https://rickandmortyapi.com/api/episode/40',\n",
       "    'https://rickandmortyapi.com/api/episode/41',\n",
       "    'https://rickandmortyapi.com/api/episode/42',\n",
       "    'https://rickandmortyapi.com/api/episode/43',\n",
       "    'https://rickandmortyapi.com/api/episode/44',\n",
       "    'https://rickandmortyapi.com/api/episode/45',\n",
       "    'https://rickandmortyapi.com/api/episode/46',\n",
       "    'https://rickandmortyapi.com/api/episode/47',\n",
       "    'https://rickandmortyapi.com/api/episode/48',\n",
       "    'https://rickandmortyapi.com/api/episode/49',\n",
       "    'https://rickandmortyapi.com/api/episode/51'],\n",
       "   'url': 'https://rickandmortyapi.com/api/character/4',\n",
       "   'created': '2017-11-04T19:22:43.665Z'},\n",
       "  {'id': 5,\n",
       "   'name': 'Jerry Smith',\n",
       "   'status': 'Alive',\n",
       "   'species': 'Human',\n",
       "   'type': '',\n",
       "   'gender': 'Male',\n",
       "   'origin': {'name': 'Earth (Replacement Dimension)',\n",
       "    'url': 'https://rickandmortyapi.com/api/location/20'},\n",
       "   'location': {'name': 'Earth (Replacement Dimension)',\n",
       "    'url': 'https://rickandmortyapi.com/api/location/20'},\n",
       "   'image': 'https://rickandmortyapi.com/api/character/avatar/5.jpeg',\n",
       "   'episode': ['https://rickandmortyapi.com/api/episode/6',\n",
       "    'https://rickandmortyapi.com/api/episode/7',\n",
       "    'https://rickandmortyapi.com/api/episode/8',\n",
       "    'https://rickandmortyapi.com/api/episode/9',\n",
       "    'https://rickandmortyapi.com/api/episode/10',\n",
       "    'https://rickandmortyapi.com/api/episode/11',\n",
       "    'https://rickandmortyapi.com/api/episode/12',\n",
       "    'https://rickandmortyapi.com/api/episode/13',\n",
       "    'https://rickandmortyapi.com/api/episode/14',\n",
       "    'https://rickandmortyapi.com/api/episode/15',\n",
       "    'https://rickandmortyapi.com/api/episode/16',\n",
       "    'https://rickandmortyapi.com/api/episode/18',\n",
       "    'https://rickandmortyapi.com/api/episode/19',\n",
       "    'https://rickandmortyapi.com/api/episode/20',\n",
       "    'https://rickandmortyapi.com/api/episode/21',\n",
       "    'https://rickandmortyapi.com/api/episode/22',\n",
       "    'https://rickandmortyapi.com/api/episode/23',\n",
       "    'https://rickandmortyapi.com/api/episode/26',\n",
       "    'https://rickandmortyapi.com/api/episode/29',\n",
       "    'https://rickandmortyapi.com/api/episode/30',\n",
       "    'https://rickandmortyapi.com/api/episode/31',\n",
       "    'https://rickandmortyapi.com/api/episode/32',\n",
       "    'https://rickandmortyapi.com/api/episode/33',\n",
       "    'https://rickandmortyapi.com/api/episode/35',\n",
       "    'https://rickandmortyapi.com/api/episode/36',\n",
       "    'https://rickandmortyapi.com/api/episode/38',\n",
       "    'https://rickandmortyapi.com/api/episode/39',\n",
       "    'https://rickandmortyapi.com/api/episode/40',\n",
       "    'https://rickandmortyapi.com/api/episode/41',\n",
       "    'https://rickandmortyapi.com/api/episode/42',\n",
       "    'https://rickandmortyapi.com/api/episode/43',\n",
       "    'https://rickandmortyapi.com/api/episode/44',\n",
       "    'https://rickandmortyapi.com/api/episode/45',\n",
       "    'https://rickandmortyapi.com/api/episode/46',\n",
       "    'https://rickandmortyapi.com/api/episode/47',\n",
       "    'https://rickandmortyapi.com/api/episode/48',\n",
       "    'https://rickandmortyapi.com/api/episode/49',\n",
       "    'https://rickandmortyapi.com/api/episode/50',\n",
       "    'https://rickandmortyapi.com/api/episode/51'],\n",
       "   'url': 'https://rickandmortyapi.com/api/character/5',\n",
       "   'created': '2017-11-04T19:26:56.301Z'},\n",
       "  {'id': 6,\n",
       "   'name': 'Abadango Cluster Princess',\n",
       "   'status': 'Alive',\n",
       "   'species': 'Alien',\n",
       "   'type': '',\n",
       "   'gender': 'Female',\n",
       "   'origin': {'name': 'Abadango',\n",
       "    'url': 'https://rickandmortyapi.com/api/location/2'},\n",
       "   'location': {'name': 'Abadango',\n",
       "    'url': 'https://rickandmortyapi.com/api/location/2'},\n",
       "   'image': 'https://rickandmortyapi.com/api/character/avatar/6.jpeg',\n",
       "   'episode': ['https://rickandmortyapi.com/api/episode/27'],\n",
       "   'url': 'https://rickandmortyapi.com/api/character/6',\n",
       "   'created': '2017-11-04T19:50:28.250Z'},\n",
       "  {'id': 7,\n",
       "   'name': 'Abradolf Lincler',\n",
       "   'status': 'unknown',\n",
       "   'species': 'Human',\n",
       "   'type': 'Genetic experiment',\n",
       "   'gender': 'Male',\n",
       "   'origin': {'name': 'Earth (Replacement Dimension)',\n",
       "    'url': 'https://rickandmortyapi.com/api/location/20'},\n",
       "   'location': {'name': 'Testicle Monster Dimension',\n",
       "    'url': 'https://rickandmortyapi.com/api/location/21'},\n",
       "   'image': 'https://rickandmortyapi.com/api/character/avatar/7.jpeg',\n",
       "   'episode': ['https://rickandmortyapi.com/api/episode/10',\n",
       "    'https://rickandmortyapi.com/api/episode/11'],\n",
       "   'url': 'https://rickandmortyapi.com/api/character/7',\n",
       "   'created': '2017-11-04T19:59:20.523Z'},\n",
       "  {'id': 8,\n",
       "   'name': 'Adjudicator Rick',\n",
       "   'status': 'Dead',\n",
       "   'species': 'Human',\n",
       "   'type': '',\n",
       "   'gender': 'Male',\n",
       "   'origin': {'name': 'unknown', 'url': ''},\n",
       "   'location': {'name': 'Citadel of Ricks',\n",
       "    'url': 'https://rickandmortyapi.com/api/location/3'},\n",
       "   'image': 'https://rickandmortyapi.com/api/character/avatar/8.jpeg',\n",
       "   'episode': ['https://rickandmortyapi.com/api/episode/28'],\n",
       "   'url': 'https://rickandmortyapi.com/api/character/8',\n",
       "   'created': '2017-11-04T20:03:34.737Z'},\n",
       "  {'id': 9,\n",
       "   'name': 'Agency Director',\n",
       "   'status': 'Dead',\n",
       "   'species': 'Human',\n",
       "   'type': '',\n",
       "   'gender': 'Male',\n",
       "   'origin': {'name': 'Earth (Replacement Dimension)',\n",
       "    'url': 'https://rickandmortyapi.com/api/location/20'},\n",
       "   'location': {'name': 'Earth (Replacement Dimension)',\n",
       "    'url': 'https://rickandmortyapi.com/api/location/20'},\n",
       "   'image': 'https://rickandmortyapi.com/api/character/avatar/9.jpeg',\n",
       "   'episode': ['https://rickandmortyapi.com/api/episode/24'],\n",
       "   'url': 'https://rickandmortyapi.com/api/character/9',\n",
       "   'created': '2017-11-04T20:06:54.976Z'},\n",
       "  {'id': 10,\n",
       "   'name': 'Alan Rails',\n",
       "   'status': 'Dead',\n",
       "   'species': 'Human',\n",
       "   'type': 'Superhuman (Ghost trains summoner)',\n",
       "   'gender': 'Male',\n",
       "   'origin': {'name': 'unknown', 'url': ''},\n",
       "   'location': {'name': \"Worldender's lair\",\n",
       "    'url': 'https://rickandmortyapi.com/api/location/4'},\n",
       "   'image': 'https://rickandmortyapi.com/api/character/avatar/10.jpeg',\n",
       "   'episode': ['https://rickandmortyapi.com/api/episode/25'],\n",
       "   'url': 'https://rickandmortyapi.com/api/character/10',\n",
       "   'created': '2017-11-04T20:19:09.017Z'},\n",
       "  {'id': 11,\n",
       "   'name': 'Albert Einstein',\n",
       "   'status': 'Dead',\n",
       "   'species': 'Human',\n",
       "   'type': '',\n",
       "   'gender': 'Male',\n",
       "   'origin': {'name': 'Earth (C-137)',\n",
       "    'url': 'https://rickandmortyapi.com/api/location/1'},\n",
       "   'location': {'name': 'Earth (Replacement Dimension)',\n",
       "    'url': 'https://rickandmortyapi.com/api/location/20'},\n",
       "   'image': 'https://rickandmortyapi.com/api/character/avatar/11.jpeg',\n",
       "   'episode': ['https://rickandmortyapi.com/api/episode/12'],\n",
       "   'url': 'https://rickandmortyapi.com/api/character/11',\n",
       "   'created': '2017-11-04T20:20:20.965Z'},\n",
       "  {'id': 12,\n",
       "   'name': 'Alexander',\n",
       "   'status': 'Dead',\n",
       "   'species': 'Human',\n",
       "   'type': '',\n",
       "   'gender': 'Male',\n",
       "   'origin': {'name': 'Earth (C-137)',\n",
       "    'url': 'https://rickandmortyapi.com/api/location/1'},\n",
       "   'location': {'name': 'Anatomy Park',\n",
       "    'url': 'https://rickandmortyapi.com/api/location/5'},\n",
       "   'image': 'https://rickandmortyapi.com/api/character/avatar/12.jpeg',\n",
       "   'episode': ['https://rickandmortyapi.com/api/episode/3'],\n",
       "   'url': 'https://rickandmortyapi.com/api/character/12',\n",
       "   'created': '2017-11-04T20:32:33.144Z'},\n",
       "  {'id': 13,\n",
       "   'name': 'Alien Googah',\n",
       "   'status': 'unknown',\n",
       "   'species': 'Alien',\n",
       "   'type': '',\n",
       "   'gender': 'unknown',\n",
       "   'origin': {'name': 'unknown', 'url': ''},\n",
       "   'location': {'name': 'Earth (Replacement Dimension)',\n",
       "    'url': 'https://rickandmortyapi.com/api/location/20'},\n",
       "   'image': 'https://rickandmortyapi.com/api/character/avatar/13.jpeg',\n",
       "   'episode': ['https://rickandmortyapi.com/api/episode/31'],\n",
       "   'url': 'https://rickandmortyapi.com/api/character/13',\n",
       "   'created': '2017-11-04T20:33:30.779Z'},\n",
       "  {'id': 14,\n",
       "   'name': 'Alien Morty',\n",
       "   'status': 'unknown',\n",
       "   'species': 'Alien',\n",
       "   'type': '',\n",
       "   'gender': 'Male',\n",
       "   'origin': {'name': 'unknown', 'url': ''},\n",
       "   'location': {'name': 'Citadel of Ricks',\n",
       "    'url': 'https://rickandmortyapi.com/api/location/3'},\n",
       "   'image': 'https://rickandmortyapi.com/api/character/avatar/14.jpeg',\n",
       "   'episode': ['https://rickandmortyapi.com/api/episode/10'],\n",
       "   'url': 'https://rickandmortyapi.com/api/character/14',\n",
       "   'created': '2017-11-04T20:51:31.373Z'},\n",
       "  {'id': 15,\n",
       "   'name': 'Alien Rick',\n",
       "   'status': 'unknown',\n",
       "   'species': 'Alien',\n",
       "   'type': '',\n",
       "   'gender': 'Male',\n",
       "   'origin': {'name': 'unknown', 'url': ''},\n",
       "   'location': {'name': 'Citadel of Ricks',\n",
       "    'url': 'https://rickandmortyapi.com/api/location/3'},\n",
       "   'image': 'https://rickandmortyapi.com/api/character/avatar/15.jpeg',\n",
       "   'episode': ['https://rickandmortyapi.com/api/episode/10'],\n",
       "   'url': 'https://rickandmortyapi.com/api/character/15',\n",
       "   'created': '2017-11-04T20:56:13.215Z'},\n",
       "  {'id': 16,\n",
       "   'name': 'Amish Cyborg',\n",
       "   'status': 'Dead',\n",
       "   'species': 'Alien',\n",
       "   'type': 'Parasite',\n",
       "   'gender': 'Male',\n",
       "   'origin': {'name': 'unknown', 'url': ''},\n",
       "   'location': {'name': 'Earth (Replacement Dimension)',\n",
       "    'url': 'https://rickandmortyapi.com/api/location/20'},\n",
       "   'image': 'https://rickandmortyapi.com/api/character/avatar/16.jpeg',\n",
       "   'episode': ['https://rickandmortyapi.com/api/episode/15'],\n",
       "   'url': 'https://rickandmortyapi.com/api/character/16',\n",
       "   'created': '2017-11-04T21:12:45.235Z'},\n",
       "  {'id': 17,\n",
       "   'name': 'Annie',\n",
       "   'status': 'Alive',\n",
       "   'species': 'Human',\n",
       "   'type': '',\n",
       "   'gender': 'Female',\n",
       "   'origin': {'name': 'Earth (C-137)',\n",
       "    'url': 'https://rickandmortyapi.com/api/location/1'},\n",
       "   'location': {'name': 'Anatomy Park',\n",
       "    'url': 'https://rickandmortyapi.com/api/location/5'},\n",
       "   'image': 'https://rickandmortyapi.com/api/character/avatar/17.jpeg',\n",
       "   'episode': ['https://rickandmortyapi.com/api/episode/3'],\n",
       "   'url': 'https://rickandmortyapi.com/api/character/17',\n",
       "   'created': '2017-11-04T22:21:24.481Z'},\n",
       "  {'id': 18,\n",
       "   'name': 'Antenna Morty',\n",
       "   'status': 'Alive',\n",
       "   'species': 'Human',\n",
       "   'type': 'Human with antennae',\n",
       "   'gender': 'Male',\n",
       "   'origin': {'name': 'unknown', 'url': ''},\n",
       "   'location': {'name': 'Citadel of Ricks',\n",
       "    'url': 'https://rickandmortyapi.com/api/location/3'},\n",
       "   'image': 'https://rickandmortyapi.com/api/character/avatar/18.jpeg',\n",
       "   'episode': ['https://rickandmortyapi.com/api/episode/10',\n",
       "    'https://rickandmortyapi.com/api/episode/28'],\n",
       "   'url': 'https://rickandmortyapi.com/api/character/18',\n",
       "   'created': '2017-11-04T22:25:29.008Z'},\n",
       "  {'id': 19,\n",
       "   'name': 'Antenna Rick',\n",
       "   'status': 'unknown',\n",
       "   'species': 'Human',\n",
       "   'type': 'Human with antennae',\n",
       "   'gender': 'Male',\n",
       "   'origin': {'name': 'unknown', 'url': ''},\n",
       "   'location': {'name': 'unknown', 'url': ''},\n",
       "   'image': 'https://rickandmortyapi.com/api/character/avatar/19.jpeg',\n",
       "   'episode': ['https://rickandmortyapi.com/api/episode/10'],\n",
       "   'url': 'https://rickandmortyapi.com/api/character/19',\n",
       "   'created': '2017-11-04T22:28:13.756Z'},\n",
       "  {'id': 20,\n",
       "   'name': 'Ants in my Eyes Johnson',\n",
       "   'status': 'unknown',\n",
       "   'species': 'Human',\n",
       "   'type': 'Human with ants in his eyes',\n",
       "   'gender': 'Male',\n",
       "   'origin': {'name': 'unknown', 'url': ''},\n",
       "   'location': {'name': 'Interdimensional Cable',\n",
       "    'url': 'https://rickandmortyapi.com/api/location/6'},\n",
       "   'image': 'https://rickandmortyapi.com/api/character/avatar/20.jpeg',\n",
       "   'episode': ['https://rickandmortyapi.com/api/episode/8'],\n",
       "   'url': 'https://rickandmortyapi.com/api/character/20',\n",
       "   'created': '2017-11-04T22:34:53.659Z'}]}"
      ]
     },
     "execution_count": 5,
     "metadata": {},
     "output_type": "execute_result"
    }
   ],
   "source": [
    "r.json()"
   ]
  },
  {
   "cell_type": "markdown",
   "metadata": {},
   "source": [
    "<p>Now, let's store our result in a new variable, so that we can access the keys of the response.</p>"
   ]
  },
  {
   "cell_type": "code",
   "execution_count": 6,
   "metadata": {},
   "outputs": [],
   "source": [
    "data = r.json()"
   ]
  },
  {
   "cell_type": "code",
   "execution_count": 7,
   "metadata": {},
   "outputs": [
    {
     "data": {
      "text/plain": [
       "{'count': 826,\n",
       " 'pages': 42,\n",
       " 'next': 'https://rickandmortyapi.com/api/character?page=2',\n",
       " 'prev': None}"
      ]
     },
     "execution_count": 7,
     "metadata": {},
     "output_type": "execute_result"
    }
   ],
   "source": [
    "data['info']"
   ]
  },
  {
   "cell_type": "markdown",
   "metadata": {},
   "source": [
    "<p>Great! Now, we can get hold of the number of pages, since we want to get all of the responses for all characters.</p>\n",
    "<p><strong>Reminder</strong>: it'as a good practice to do an initial request just to see what kind of data you are dealing with. In my experience, this is particularly important, as not all APIs will let you extract data freely; you might run into query limitations (they are actually the rule, and not the exception), for instance.</p>\n",
    "<p>Let's get the number of pages and store it in a variable:</p>"
   ]
  },
  {
   "cell_type": "code",
   "execution_count": 9,
   "metadata": {},
   "outputs": [
    {
     "name": "stdout",
     "output_type": "stream",
     "text": [
      "42\n"
     ]
    }
   ],
   "source": [
    "pages = data['info']['pages']\n",
    "print(pages)"
   ]
  },
  {
   "cell_type": "markdown",
   "metadata": {},
   "source": [
    "<p>Now, let's check the actual data by tapping into <code>data['results']</code>. Let's get the first item of the list by slicing it with <code>[0]</code>.</p>"
   ]
  },
  {
   "cell_type": "code",
   "execution_count": 10,
   "metadata": {},
   "outputs": [
    {
     "data": {
      "text/plain": [
       "{'id': 1,\n",
       " 'name': 'Rick Sanchez',\n",
       " 'status': 'Alive',\n",
       " 'species': 'Human',\n",
       " 'type': '',\n",
       " 'gender': 'Male',\n",
       " 'origin': {'name': 'Earth (C-137)',\n",
       "  'url': 'https://rickandmortyapi.com/api/location/1'},\n",
       " 'location': {'name': 'Citadel of Ricks',\n",
       "  'url': 'https://rickandmortyapi.com/api/location/3'},\n",
       " 'image': 'https://rickandmortyapi.com/api/character/avatar/1.jpeg',\n",
       " 'episode': ['https://rickandmortyapi.com/api/episode/1',\n",
       "  'https://rickandmortyapi.com/api/episode/2',\n",
       "  'https://rickandmortyapi.com/api/episode/3',\n",
       "  'https://rickandmortyapi.com/api/episode/4',\n",
       "  'https://rickandmortyapi.com/api/episode/5',\n",
       "  'https://rickandmortyapi.com/api/episode/6',\n",
       "  'https://rickandmortyapi.com/api/episode/7',\n",
       "  'https://rickandmortyapi.com/api/episode/8',\n",
       "  'https://rickandmortyapi.com/api/episode/9',\n",
       "  'https://rickandmortyapi.com/api/episode/10',\n",
       "  'https://rickandmortyapi.com/api/episode/11',\n",
       "  'https://rickandmortyapi.com/api/episode/12',\n",
       "  'https://rickandmortyapi.com/api/episode/13',\n",
       "  'https://rickandmortyapi.com/api/episode/14',\n",
       "  'https://rickandmortyapi.com/api/episode/15',\n",
       "  'https://rickandmortyapi.com/api/episode/16',\n",
       "  'https://rickandmortyapi.com/api/episode/17',\n",
       "  'https://rickandmortyapi.com/api/episode/18',\n",
       "  'https://rickandmortyapi.com/api/episode/19',\n",
       "  'https://rickandmortyapi.com/api/episode/20',\n",
       "  'https://rickandmortyapi.com/api/episode/21',\n",
       "  'https://rickandmortyapi.com/api/episode/22',\n",
       "  'https://rickandmortyapi.com/api/episode/23',\n",
       "  'https://rickandmortyapi.com/api/episode/24',\n",
       "  'https://rickandmortyapi.com/api/episode/25',\n",
       "  'https://rickandmortyapi.com/api/episode/26',\n",
       "  'https://rickandmortyapi.com/api/episode/27',\n",
       "  'https://rickandmortyapi.com/api/episode/28',\n",
       "  'https://rickandmortyapi.com/api/episode/29',\n",
       "  'https://rickandmortyapi.com/api/episode/30',\n",
       "  'https://rickandmortyapi.com/api/episode/31',\n",
       "  'https://rickandmortyapi.com/api/episode/32',\n",
       "  'https://rickandmortyapi.com/api/episode/33',\n",
       "  'https://rickandmortyapi.com/api/episode/34',\n",
       "  'https://rickandmortyapi.com/api/episode/35',\n",
       "  'https://rickandmortyapi.com/api/episode/36',\n",
       "  'https://rickandmortyapi.com/api/episode/37',\n",
       "  'https://rickandmortyapi.com/api/episode/38',\n",
       "  'https://rickandmortyapi.com/api/episode/39',\n",
       "  'https://rickandmortyapi.com/api/episode/40',\n",
       "  'https://rickandmortyapi.com/api/episode/41',\n",
       "  'https://rickandmortyapi.com/api/episode/42',\n",
       "  'https://rickandmortyapi.com/api/episode/43',\n",
       "  'https://rickandmortyapi.com/api/episode/44',\n",
       "  'https://rickandmortyapi.com/api/episode/45',\n",
       "  'https://rickandmortyapi.com/api/episode/46',\n",
       "  'https://rickandmortyapi.com/api/episode/47',\n",
       "  'https://rickandmortyapi.com/api/episode/48',\n",
       "  'https://rickandmortyapi.com/api/episode/49',\n",
       "  'https://rickandmortyapi.com/api/episode/50',\n",
       "  'https://rickandmortyapi.com/api/episode/51'],\n",
       " 'url': 'https://rickandmortyapi.com/api/character/1',\n",
       " 'created': '2017-11-04T18:48:46.250Z'}"
      ]
     },
     "execution_count": 10,
     "metadata": {},
     "output_type": "execute_result"
    }
   ],
   "source": [
    "data['results'][0]"
   ]
  },
  {
   "cell_type": "markdown",
   "metadata": {},
   "source": [
    "<p>We can now store relevant info in different variables.</p>"
   ]
  },
  {
   "cell_type": "code",
   "execution_count": 12,
   "metadata": {},
   "outputs": [],
   "source": [
    "name = data['results'][0]['name']\n",
    "episodes = data['results'][0]['episode']"
   ]
  },
  {
   "cell_type": "markdown",
   "metadata": {},
   "source": []
  },
  {
   "cell_type": "code",
   "execution_count": 48,
   "metadata": {},
   "outputs": [
    {
     "name": "stdout",
     "output_type": "stream",
     "text": [
      "Rick Sanchez\n"
     ]
    }
   ],
   "source": [
    "print(name)"
   ]
  },
  {
   "cell_type": "code",
   "execution_count": 13,
   "metadata": {},
   "outputs": [
    {
     "data": {
      "text/plain": [
       "['https://rickandmortyapi.com/api/episode/1',\n",
       " 'https://rickandmortyapi.com/api/episode/2',\n",
       " 'https://rickandmortyapi.com/api/episode/3',\n",
       " 'https://rickandmortyapi.com/api/episode/4',\n",
       " 'https://rickandmortyapi.com/api/episode/5',\n",
       " 'https://rickandmortyapi.com/api/episode/6',\n",
       " 'https://rickandmortyapi.com/api/episode/7',\n",
       " 'https://rickandmortyapi.com/api/episode/8',\n",
       " 'https://rickandmortyapi.com/api/episode/9',\n",
       " 'https://rickandmortyapi.com/api/episode/10',\n",
       " 'https://rickandmortyapi.com/api/episode/11',\n",
       " 'https://rickandmortyapi.com/api/episode/12',\n",
       " 'https://rickandmortyapi.com/api/episode/13',\n",
       " 'https://rickandmortyapi.com/api/episode/14',\n",
       " 'https://rickandmortyapi.com/api/episode/15',\n",
       " 'https://rickandmortyapi.com/api/episode/16',\n",
       " 'https://rickandmortyapi.com/api/episode/17',\n",
       " 'https://rickandmortyapi.com/api/episode/18',\n",
       " 'https://rickandmortyapi.com/api/episode/19',\n",
       " 'https://rickandmortyapi.com/api/episode/20',\n",
       " 'https://rickandmortyapi.com/api/episode/21',\n",
       " 'https://rickandmortyapi.com/api/episode/22',\n",
       " 'https://rickandmortyapi.com/api/episode/23',\n",
       " 'https://rickandmortyapi.com/api/episode/24',\n",
       " 'https://rickandmortyapi.com/api/episode/25',\n",
       " 'https://rickandmortyapi.com/api/episode/26',\n",
       " 'https://rickandmortyapi.com/api/episode/27',\n",
       " 'https://rickandmortyapi.com/api/episode/28',\n",
       " 'https://rickandmortyapi.com/api/episode/29',\n",
       " 'https://rickandmortyapi.com/api/episode/30',\n",
       " 'https://rickandmortyapi.com/api/episode/31',\n",
       " 'https://rickandmortyapi.com/api/episode/32',\n",
       " 'https://rickandmortyapi.com/api/episode/33',\n",
       " 'https://rickandmortyapi.com/api/episode/34',\n",
       " 'https://rickandmortyapi.com/api/episode/35',\n",
       " 'https://rickandmortyapi.com/api/episode/36',\n",
       " 'https://rickandmortyapi.com/api/episode/37',\n",
       " 'https://rickandmortyapi.com/api/episode/38',\n",
       " 'https://rickandmortyapi.com/api/episode/39',\n",
       " 'https://rickandmortyapi.com/api/episode/40',\n",
       " 'https://rickandmortyapi.com/api/episode/41',\n",
       " 'https://rickandmortyapi.com/api/episode/42',\n",
       " 'https://rickandmortyapi.com/api/episode/43',\n",
       " 'https://rickandmortyapi.com/api/episode/44',\n",
       " 'https://rickandmortyapi.com/api/episode/45',\n",
       " 'https://rickandmortyapi.com/api/episode/46',\n",
       " 'https://rickandmortyapi.com/api/episode/47',\n",
       " 'https://rickandmortyapi.com/api/episode/48',\n",
       " 'https://rickandmortyapi.com/api/episode/49',\n",
       " 'https://rickandmortyapi.com/api/episode/50',\n",
       " 'https://rickandmortyapi.com/api/episode/51']"
      ]
     },
     "execution_count": 13,
     "metadata": {},
     "output_type": "execute_result"
    }
   ],
   "source": [
    "print(episodes)"
   ]
  },
  {
   "cell_type": "markdown",
   "metadata": {},
   "source": [
    "<p>Let's figure out how many episodes has this character been at.</p>"
   ]
  },
  {
   "cell_type": "code",
   "execution_count": 15,
   "metadata": {},
   "outputs": [
    {
     "name": "stdout",
     "output_type": "stream",
     "text": [
      "51\n"
     ]
    }
   ],
   "source": [
    "print(len(episodes))"
   ]
  },
  {
   "cell_type": "markdown",
   "metadata": {},
   "source": [
    "<h2>3. Make the API request</h2>"
   ]
  },
  {
   "cell_type": "markdown",
   "metadata": {},
   "source": [
    "<p>Now, we can start writing some functions to make a proper API request.</p>"
   ]
  },
  {
   "cell_type": "markdown",
   "metadata": {},
   "source": [
    "<p><code>main_request()</code> takes three arguments: <code>baseurl</code>, <code>endpoint</code>, and <code>x</code>. With it, you're going to make a request to the API, using its base url, its endpoint (in this case, <code>character</code>), and the page you want to return. This will be particulary important when combined with other functions. It will, as a result, return the response in a <code>.json()</code> format.</p>"
   ]
  },
  {
   "cell_type": "code",
   "execution_count": 29,
   "metadata": {},
   "outputs": [],
   "source": [
    "def main_request(baseurl, endpoint, x):\n",
    "    r = requests.get(baseurl + endpoint + f'?page={x}')\n",
    "    return r.json()"
   ]
  },
  {
   "cell_type": "markdown",
   "metadata": {},
   "source": [
    "<code>get_pages()</code> takes <code>response</code> as argument, returning the number of pages of the API. This is important when looping through the API and scraping the data from each page.</p>"
   ]
  },
  {
   "cell_type": "code",
   "execution_count": 21,
   "metadata": {},
   "outputs": [],
   "source": [
    "def get_pages(response):\n",
    "    return response['info']['pages']\n",
    "    "
   ]
  },
  {
   "cell_type": "markdown",
   "metadata": {},
   "source": [
    "<p>Finally, the function <code>parse_json()</code> iterates over the <code>response['results']</code> and return info based on the keys we put into it (here, <code>item['id']</code>, <code>['name']</code>, and <code>['episode']</code>). The outcome will be stored in a variable <code>charlist</code> as a list.</p>"
   ]
  },
  {
   "cell_type": "code",
   "execution_count": 42,
   "metadata": {},
   "outputs": [],
   "source": [
    "def parse_json(response):\n",
    "    charlist = []\n",
    "    for item in response['results']:\n",
    "        char = {\n",
    "            'id': item['id'],\n",
    "            'name': item['name'],\n",
    "            'no_ep': len(item['episode']),\n",
    "        }\n",
    "\n",
    "        charlist.append(char)\n",
    "    return charlist"
   ]
  },
  {
   "cell_type": "markdown",
   "metadata": {},
   "source": [
    "<p>Now, using the number of pages as a range of our dataset, we can iterate over all pages and get hold of all the data stored in each page. We can print the number of pages to see if we looped through all the dataset, and store all the results in a new variable <code>mainlist</code>.</p>"
   ]
  },
  {
   "cell_type": "code",
   "execution_count": 49,
   "metadata": {},
   "outputs": [
    {
     "name": "stdout",
     "output_type": "stream",
     "text": [
      "1\n",
      "2\n",
      "3\n",
      "4\n",
      "5\n",
      "6\n",
      "7\n",
      "8\n",
      "9\n",
      "10\n",
      "11\n",
      "12\n",
      "13\n",
      "14\n",
      "15\n",
      "16\n",
      "17\n",
      "18\n",
      "19\n",
      "20\n",
      "21\n",
      "22\n",
      "23\n",
      "24\n",
      "25\n",
      "26\n",
      "27\n",
      "28\n",
      "29\n",
      "30\n",
      "31\n",
      "32\n",
      "33\n",
      "34\n",
      "35\n",
      "36\n",
      "37\n",
      "38\n",
      "39\n",
      "40\n",
      "41\n",
      "42\n"
     ]
    }
   ],
   "source": [
    "mainlist = []\n",
    "for x in range(1, get_pages(data)+1):\n",
    "    print(x)\n",
    "    mainlist.extend(parse_json(main_request(baseurl, endpoint, x)))\n"
   ]
  },
  {
   "cell_type": "markdown",
   "metadata": {},
   "source": [
    "<h2>4. Store results in a DataFrame, save them in a .csv file</h2>"
   ]
  },
  {
   "cell_type": "markdown",
   "metadata": {},
   "source": [
    "<p>Finally, we can use Pandas <code>DataFrame</code>, store all the data and save it into a <code>.csv</code>.</p>"
   ]
  },
  {
   "cell_type": "code",
   "execution_count": 45,
   "metadata": {},
   "outputs": [],
   "source": [
    "char_df = pd.DataFrame(mainlist)"
   ]
  },
  {
   "cell_type": "code",
   "execution_count": 46,
   "metadata": {},
   "outputs": [
    {
     "data": {
      "text/html": [
       "<div>\n",
       "<style scoped>\n",
       "    .dataframe tbody tr th:only-of-type {\n",
       "        vertical-align: middle;\n",
       "    }\n",
       "\n",
       "    .dataframe tbody tr th {\n",
       "        vertical-align: top;\n",
       "    }\n",
       "\n",
       "    .dataframe thead th {\n",
       "        text-align: right;\n",
       "    }\n",
       "</style>\n",
       "<table border=\"1\" class=\"dataframe\">\n",
       "  <thead>\n",
       "    <tr style=\"text-align: right;\">\n",
       "      <th></th>\n",
       "      <th>id</th>\n",
       "      <th>name</th>\n",
       "      <th>no_ep</th>\n",
       "    </tr>\n",
       "  </thead>\n",
       "  <tbody>\n",
       "    <tr>\n",
       "      <th>0</th>\n",
       "      <td>1</td>\n",
       "      <td>Rick Sanchez</td>\n",
       "      <td>51</td>\n",
       "    </tr>\n",
       "    <tr>\n",
       "      <th>1</th>\n",
       "      <td>2</td>\n",
       "      <td>Morty Smith</td>\n",
       "      <td>51</td>\n",
       "    </tr>\n",
       "    <tr>\n",
       "      <th>2</th>\n",
       "      <td>3</td>\n",
       "      <td>Summer Smith</td>\n",
       "      <td>42</td>\n",
       "    </tr>\n",
       "    <tr>\n",
       "      <th>3</th>\n",
       "      <td>4</td>\n",
       "      <td>Beth Smith</td>\n",
       "      <td>42</td>\n",
       "    </tr>\n",
       "    <tr>\n",
       "      <th>4</th>\n",
       "      <td>5</td>\n",
       "      <td>Jerry Smith</td>\n",
       "      <td>39</td>\n",
       "    </tr>\n",
       "  </tbody>\n",
       "</table>\n",
       "</div>"
      ],
      "text/plain": [
       "   id          name  no_ep\n",
       "0   1  Rick Sanchez     51\n",
       "1   2   Morty Smith     51\n",
       "2   3  Summer Smith     42\n",
       "3   4    Beth Smith     42\n",
       "4   5   Jerry Smith     39"
      ]
     },
     "execution_count": 46,
     "metadata": {},
     "output_type": "execute_result"
    }
   ],
   "source": [
    "char_df.head()"
   ]
  },
  {
   "cell_type": "code",
   "execution_count": 41,
   "metadata": {},
   "outputs": [
    {
     "data": {
      "text/html": [
       "<div>\n",
       "<style scoped>\n",
       "    .dataframe tbody tr th:only-of-type {\n",
       "        vertical-align: middle;\n",
       "    }\n",
       "\n",
       "    .dataframe tbody tr th {\n",
       "        vertical-align: top;\n",
       "    }\n",
       "\n",
       "    .dataframe thead th {\n",
       "        text-align: right;\n",
       "    }\n",
       "</style>\n",
       "<table border=\"1\" class=\"dataframe\">\n",
       "  <thead>\n",
       "    <tr style=\"text-align: right;\">\n",
       "      <th></th>\n",
       "      <th>name</th>\n",
       "      <th>no_ep</th>\n",
       "    </tr>\n",
       "  </thead>\n",
       "  <tbody>\n",
       "    <tr>\n",
       "      <th>821</th>\n",
       "      <td>Young Jerry</td>\n",
       "      <td>1</td>\n",
       "    </tr>\n",
       "    <tr>\n",
       "      <th>822</th>\n",
       "      <td>Young Beth</td>\n",
       "      <td>1</td>\n",
       "    </tr>\n",
       "    <tr>\n",
       "      <th>823</th>\n",
       "      <td>Young Beth</td>\n",
       "      <td>1</td>\n",
       "    </tr>\n",
       "    <tr>\n",
       "      <th>824</th>\n",
       "      <td>Young Jerry</td>\n",
       "      <td>1</td>\n",
       "    </tr>\n",
       "    <tr>\n",
       "      <th>825</th>\n",
       "      <td>Butter Robot</td>\n",
       "      <td>1</td>\n",
       "    </tr>\n",
       "  </tbody>\n",
       "</table>\n",
       "</div>"
      ],
      "text/plain": [
       "             name  no_ep\n",
       "821   Young Jerry      1\n",
       "822    Young Beth      1\n",
       "823    Young Beth      1\n",
       "824   Young Jerry      1\n",
       "825  Butter Robot      1"
      ]
     },
     "execution_count": 41,
     "metadata": {},
     "output_type": "execute_result"
    }
   ],
   "source": [
    "char_df.tail()"
   ]
  },
  {
   "cell_type": "code",
   "execution_count": 47,
   "metadata": {},
   "outputs": [],
   "source": [
    "char_df.to_csv('data/charlist.csv', index=False)"
   ]
  },
  {
   "cell_type": "markdown",
   "metadata": {},
   "source": [
    "<p>And that's it! That was a great tutorial, and hopefully I'll get to use it in my side projects!</p>"
   ]
  }
 ],
 "metadata": {
  "kernelspec": {
   "display_name": "Python 3.10.3 ('api': venv)",
   "language": "python",
   "name": "python3"
  },
  "language_info": {
   "codemirror_mode": {
    "name": "ipython",
    "version": 3
   },
   "file_extension": ".py",
   "mimetype": "text/x-python",
   "name": "python",
   "nbconvert_exporter": "python",
   "pygments_lexer": "ipython3",
   "version": "3.10.3"
  },
  "orig_nbformat": 4,
  "vscode": {
   "interpreter": {
    "hash": "ce95653f228fea42b8c38cfe9b2f5ffc2893518ce0ea7ba2704a637c45c6a14a"
   }
  }
 },
 "nbformat": 4,
 "nbformat_minor": 2
}
